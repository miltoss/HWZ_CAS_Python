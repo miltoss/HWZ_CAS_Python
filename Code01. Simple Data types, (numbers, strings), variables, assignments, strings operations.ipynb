{
 "cells": [
  {
   "cell_type": "markdown",
   "metadata": {},
   "source": [
    "# Jupyter Notebooks\n",
    "\n",
    "## Reasons for using\n",
    "\n",
    "Here is why\n",
    "* Documentation\n",
    "* Reproducibility\n",
    "* Fun\n",
    "\n",
    "For all questions on how to do something in python , use this link:\n",
    "www.google.com\n",
    "\n",
    "But here are some cool places to learn:\n",
    "https://docs.python.org\n",
    "\n",
    "https://www.w3schools.com/python/default.asp\n",
    "\n"
   ]
  },
  {
   "cell_type": "markdown",
   "metadata": {},
   "source": [
    "## Code (Python, R, etc.)\n",
    "\n",
    "### Very simple stuff\n",
    "\n",
    "You write simple code in a notebook."
   ]
  },
  {
   "cell_type": "code",
   "execution_count": null,
   "metadata": {},
   "outputs": [],
   "source": [
    "print('Hello world')"
   ]
  },
  {
   "cell_type": "markdown",
   "metadata": {},
   "source": [
    "### But also some not so simple code\n",
    "\n",
    "#### Plot results\n",
    "\n",
    "The following code is a demo and uses material that we will learn on the way.\n",
    "\n",
    "So this is a boring plot:"
   ]
  },
  {
   "cell_type": "code",
   "execution_count": null,
   "metadata": {},
   "outputs": [],
   "source": [
    "%matplotlib inline\n",
    "from matplotlib.pyplot import plot\n",
    "x = list(range(10))\n",
    "print(x)\n",
    "plot(x)"
   ]
  },
  {
   "cell_type": "markdown",
   "metadata": {},
   "source": [
    "This is a bit more interesting because we are plotting the squares"
   ]
  },
  {
   "cell_type": "code",
   "execution_count": null,
   "metadata": {},
   "outputs": [],
   "source": [
    "y = [x ** 2 for x in x]  # This is a list comprehension, an elegant way of generating lists (see later).\n",
    "print(y)                         # Print the list (see later)\n",
    "plot(y)"
   ]
  },
  {
   "cell_type": "markdown",
   "metadata": {},
   "source": [
    "This is beginning to be fun: Generate random numbers in the interval -5 to 5, then use them as arguments to the gaussian function and plot them.\n",
    "\n",
    "I am trying to make this code as pythonic as possible. This takes time."
   ]
  },
  {
   "cell_type": "code",
   "execution_count": null,
   "metadata": {
    "scrolled": true
   },
   "outputs": [],
   "source": [
    "import random\n",
    "import math\n",
    "from matplotlib.pyplot import scatter\n",
    "x = [random.uniform(-3, 3) for i in range(1000)]  # Again a list comprehension\n",
    "y = map(lambda x : math.exp(-x**2), x)            # Some more cool stuff on functions: lambdas and the map function\n",
    "y = list(y)                                       \n",
    "scatter(x, y)                                     # Do a scatter plot"
   ]
  },
  {
   "cell_type": "markdown",
   "metadata": {},
   "source": [
    "## Latex Code\n",
    "\n",
    "I wrote my Bachelor and PhD thesis in Latex some 30 years ago.\n",
    "\n",
    "This is a math equation: y = $\\int_0^\\infty e^{-x^2}dx $"
   ]
  },
  {
   "cell_type": "markdown",
   "metadata": {},
   "source": [
    "# But you can use shell commands (UNIX, Windows)"
   ]
  },
  {
   "cell_type": "code",
   "execution_count": null,
   "metadata": {},
   "outputs": [],
   "source": [
    "! pwd # Show me the current directory"
   ]
  },
  {
   "cell_type": "code",
   "execution_count": null,
   "metadata": {},
   "outputs": [],
   "source": [
    "! cd /Users/miltos/Documents/HWZ/CAS2019_Python  # Move to a new directory\n",
    "! pwd\n",
    "! ls                                             # list the contents pf the direcory"
   ]
  },
  {
   "cell_type": "markdown",
   "metadata": {},
   "source": [
    "Later I will show you how to this with python code using the package os (operating system). It has certain advantages."
   ]
  },
  {
   "cell_type": "markdown",
   "metadata": {},
   "source": [
    "# Simple stuff: Variables, Operations, Assignements\n",
    "\n",
    "## Integers"
   ]
  },
  {
   "cell_type": "code",
   "execution_count": null,
   "metadata": {},
   "outputs": [],
   "source": [
    "1"
   ]
  },
  {
   "cell_type": "code",
   "execution_count": null,
   "metadata": {},
   "outputs": [],
   "source": [
    "print(1)"
   ]
  },
  {
   "cell_type": "code",
   "execution_count": null,
   "metadata": {},
   "outputs": [],
   "source": [
    "type(1) # type() is a function"
   ]
  },
  {
   "cell_type": "code",
   "execution_count": null,
   "metadata": {},
   "outputs": [],
   "source": [
    "1 + 2"
   ]
  },
  {
   "cell_type": "code",
   "execution_count": null,
   "metadata": {},
   "outputs": [],
   "source": [
    "print(2 ** 5)\n",
    "2 ** 6"
   ]
  },
  {
   "cell_type": "markdown",
   "metadata": {},
   "source": [
    "## Float"
   ]
  },
  {
   "cell_type": "code",
   "execution_count": null,
   "metadata": {},
   "outputs": [],
   "source": [
    "1.0"
   ]
  },
  {
   "cell_type": "code",
   "execution_count": null,
   "metadata": {},
   "outputs": [],
   "source": [
    "type(1.0)"
   ]
  },
  {
   "cell_type": "code",
   "execution_count": null,
   "metadata": {},
   "outputs": [],
   "source": [
    "print(type(1.0))"
   ]
  },
  {
   "cell_type": "code",
   "execution_count": null,
   "metadata": {},
   "outputs": [],
   "source": [
    "5 / 3"
   ]
  },
  {
   "cell_type": "code",
   "execution_count": null,
   "metadata": {},
   "outputs": [],
   "source": [
    "print(11 // 3)\n",
    "\n",
    "5 % 3"
   ]
  },
  {
   "cell_type": "code",
   "execution_count": null,
   "metadata": {},
   "outputs": [],
   "source": [
    "print(1e7)   # 1 x 10 ** 7\n",
    "\n",
    "3.7e2"
   ]
  },
  {
   "cell_type": "markdown",
   "metadata": {},
   "source": [
    "## Boolean & Logical Operations"
   ]
  },
  {
   "cell_type": "code",
   "execution_count": null,
   "metadata": {},
   "outputs": [],
   "source": [
    "True"
   ]
  },
  {
   "cell_type": "code",
   "execution_count": null,
   "metadata": {},
   "outputs": [],
   "source": [
    "False"
   ]
  },
  {
   "cell_type": "code",
   "execution_count": null,
   "metadata": {},
   "outputs": [],
   "source": [
    "print(type(True))\n",
    "display(type(False))"
   ]
  },
  {
   "cell_type": "code",
   "execution_count": null,
   "metadata": {},
   "outputs": [],
   "source": [
    "# Logical AND\n",
    "print('Logical AND')\n",
    "print(True & True)\n",
    "print(True & False)\n",
    "print(False & False)\n",
    "\n",
    "# Logical OR\n",
    "print()\n",
    "print('Logical OR')\n",
    "print(True | True)\n",
    "print(True | False)\n",
    "print(False | False)\n",
    "\n",
    "# Comparisons\n",
    "print('\\nSome comparisons')\n",
    "print(1 == 1)\n",
    "print(2 < 3)\n",
    "print(2 <= 3)\n",
    "print(2 >= 3)\n",
    "print(2 > 3)\n",
    "print('Hi' == 'Hi')\n",
    "print('Hi' == 'hi')\n",
    "print('a' > 'b')\n",
    "print('a' < 'b')\n"
   ]
  },
  {
   "cell_type": "markdown",
   "metadata": {},
   "source": [
    "## None Type"
   ]
  },
  {
   "cell_type": "code",
   "execution_count": null,
   "metadata": {},
   "outputs": [],
   "source": [
    "print(None)\n",
    "print(type(None))\n",
    "type(None)"
   ]
  },
  {
   "cell_type": "code",
   "execution_count": null,
   "metadata": {},
   "outputs": [],
   "source": [
    "# Here is a function that returns None\n",
    "def f(x):\n",
    "    print(x ** 2)\n",
    "    \n",
    "y = f(3.0)\n",
    "print(y)\n",
    "type(y)"
   ]
  },
  {
   "cell_type": "markdown",
   "metadata": {},
   "source": [
    "# Variable Assignements\n",
    "\n",
    "\n",
    "## Rules for variable names\n",
    "* names can not start with a number\n",
    "* names can not contain spaces, use _ intead\n",
    "* names can not contain any of these symbols:\n",
    "\n",
    "      :'\",<>/?|\\!@#%^&*~-+\n",
    "       \n",
    "* it's considered best practice ([PEP8](https://www.python.org/dev/peps/pep-0008/#function-and-variable-names)) that names are lowercase with underscores\n",
    "* avoid using Python built-in keywords like `list` and `str`\n",
    "* avoid using the single characters `l` (lowercase letter el), `O` (uppercase letter oh) and `I` (uppercase letter eye) as they can be confused with `1` and `0`\n",
    "\n",
    "Reference: https://github.com/Pierian-Data/Complete-Python-3-Bootcamp/blob/master/00-Python%20Object%20and%20Data%20Structure%20Basics/01-Numbers.ipynb"
   ]
  },
  {
   "cell_type": "code",
   "execution_count": null,
   "metadata": {},
   "outputs": [],
   "source": [
    "a = 2\n",
    "print(a)\n",
    "print(type(a))\n",
    "type(a)\n",
    "\n",
    "b = 3.\n",
    "print(b, type(b), 'So you see how to print in the same line')"
   ]
  },
  {
   "cell_type": "code",
   "execution_count": null,
   "metadata": {},
   "outputs": [],
   "source": [
    "a = 5\n",
    "print(a)\n",
    "\n",
    "a = a + 1\n",
    "print(a)\n",
    "\n",
    "a += 3  # More elegant\n",
    "print(a)"
   ]
  },
  {
   "cell_type": "code",
   "execution_count": null,
   "metadata": {},
   "outputs": [],
   "source": [
    "nun1 = None\n",
    "nun2 = None\n",
    "print(nun1, nun2)\n",
    "print(nun1 == nun2)\n",
    "None == None"
   ]
  },
  {
   "cell_type": "code",
   "execution_count": null,
   "metadata": {},
   "outputs": [],
   "source": [
    "b1 = True\n",
    "print(b1)\n",
    "type(b1)"
   ]
  },
  {
   "cell_type": "code",
   "execution_count": null,
   "metadata": {},
   "outputs": [],
   "source": [
    "#### print('Zero is False')\n",
    "b1 = 0\n",
    "print(b1)\n",
    "b1 = bool(b1)\n",
    "print(b1)\n",
    "b1 = int(b1)\n",
    "print(b1)\n",
    "\n",
    "print('\\nPositive is True')\n",
    "b1 = 4.0\n",
    "print(b1)\n",
    "b1 = bool(b1)\n",
    "print(b1)\n",
    "b1 = int(b1)\n",
    "print(b1)\n",
    "\n",
    "print('\\nNegative is True')\n",
    "b1 = -6\n",
    "print(b1)\n",
    "b1 = bool(b1)\n",
    "print(b1)\n",
    "b1 = float(b1)\n",
    "print(b1)\n",
    "\n",
    "\n",
    "b1 = -6\n",
    "print(b1)\n",
    "b1 = bool(b1)\n",
    "print(b1, type(b1))\n",
    "b1 = str(b1)\n",
    "print(b1, type(b1))\n",
    "\n",
    "b1 == 'True'\n"
   ]
  },
  {
   "cell_type": "markdown",
   "metadata": {},
   "source": [
    "# Type conversions\n",
    "\n",
    "## Dynamic Typing & Type Conversions"
   ]
  },
  {
   "cell_type": "code",
   "execution_count": null,
   "metadata": {},
   "outputs": [],
   "source": [
    "a = 5\n",
    "b = 3.0\n",
    "\n",
    "a = float(a) # Convert to float\n",
    "print(a, type(a))\n",
    "\n",
    "b = int(b) # Convert to integer\n",
    "print(b, type(b))\n",
    "\n",
    "# Integer + float gives float\n",
    "c = a + b\n",
    "print(c, type(c))\n",
    "\n",
    "# Integer + integer gives integer\n",
    "c = int(a) + int(b)\n",
    "print(c, type(c))\n"
   ]
  },
  {
   "cell_type": "markdown",
   "metadata": {},
   "source": [
    "# Strings\n",
    "\n",
    "Strings are immutable ordered sequences of characters.\n",
    "\n",
    "## Strings are fun\n",
    "\n",
    "Let's begin:"
   ]
  },
  {
   "cell_type": "code",
   "execution_count": null,
   "metadata": {},
   "outputs": [],
   "source": [
    "s1 = 'This is a string'\n",
    "print(s1)\n",
    "s1"
   ]
  },
  {
   "cell_type": "code",
   "execution_count": null,
   "metadata": {},
   "outputs": [],
   "source": [
    "s2 = \"This is a string\"\n",
    "print(s2)\n",
    "s2"
   ]
  },
  {
   "cell_type": "markdown",
   "metadata": {},
   "source": [
    "These are the same strings. Single or double quotes play no role:"
   ]
  },
  {
   "cell_type": "code",
   "execution_count": null,
   "metadata": {},
   "outputs": [],
   "source": [
    "s1 == s2 # Comparison operator returning boolean (see later)"
   ]
  },
  {
   "cell_type": "markdown",
   "metadata": {},
   "source": [
    "However:"
   ]
  },
  {
   "cell_type": "code",
   "execution_count": null,
   "metadata": {},
   "outputs": [],
   "source": [
    "s = \"I 'd rather be on the beach now\"\n",
    "print(s)\n",
    "s"
   ]
  },
  {
   "cell_type": "markdown",
   "metadata": {},
   "source": [
    "Now let's do some type conversions to strings:"
   ]
  },
  {
   "cell_type": "code",
   "execution_count": null,
   "metadata": {},
   "outputs": [],
   "source": [
    "print('This is a double quote character: \"')"
   ]
  },
  {
   "cell_type": "code",
   "execution_count": null,
   "metadata": {},
   "outputs": [],
   "source": [
    "'Hello world' == 'Hello World'"
   ]
  },
  {
   "cell_type": "code",
   "execution_count": null,
   "metadata": {},
   "outputs": [],
   "source": [
    "a = 5\n",
    "b = 3\n",
    "a = str(a)           # Convert integer to character string\n",
    "print(a, type(a))\n",
    "b = str(b)           \n",
    "print(b, type(b))    # Convert float to string\n",
    "\n",
    "c = b + a            # Concatenate strings\n",
    "print(c)\n",
    "\n",
    "c = b * 10           # Repeat a string\n",
    "print(c, type(c))\n",
    "\n",
    "print('xyz' * 5)\n",
    "\n",
    "(b + a) * 10\n"
   ]
  },
  {
   "cell_type": "markdown",
   "metadata": {},
   "source": [
    "Convert back to an integer:"
   ]
  },
  {
   "cell_type": "code",
   "execution_count": null,
   "metadata": {},
   "outputs": [],
   "source": [
    "b = int(b)  # This works\n",
    "print(b)"
   ]
  },
  {
   "cell_type": "code",
   "execution_count": null,
   "metadata": {},
   "outputs": [],
   "source": [
    "d = 'Hello'\n",
    "print(d)\n",
    "d = int(d)  # Cannot convert, returns error"
   ]
  },
  {
   "cell_type": "markdown",
   "metadata": {},
   "source": [
    "Finally, let's get the length of the string. The len() function is used for everything, not only for strings."
   ]
  },
  {
   "cell_type": "code",
   "execution_count": null,
   "metadata": {},
   "outputs": [],
   "source": [
    "d = \"'Hello'\"\n",
    "len(d) # Length of a string"
   ]
  },
  {
   "cell_type": "code",
   "execution_count": null,
   "metadata": {},
   "outputs": [],
   "source": [
    "len('')"
   ]
  },
  {
   "cell_type": "code",
   "execution_count": null,
   "metadata": {},
   "outputs": [],
   "source": [
    "empty_string = str()\n",
    "print(empty_string)\n",
    "display(empty_string)\n",
    "len(empty_string)"
   ]
  },
  {
   "cell_type": "markdown",
   "metadata": {},
   "source": [
    "## Slicing\n",
    "\n",
    "General form of slicing:\n",
    "\n",
    "s[start, end, step]\n",
    "\n",
    "start : Start position, counting at zero and is included\n",
    "\n",
    "stop  : End position, NOT included. So string will be up to stop - 1.\n",
    "\n",
    "step  : Skiping characters at step. Default is 1."
   ]
  },
  {
   "cell_type": "code",
   "execution_count": null,
   "metadata": {},
   "outputs": [],
   "source": [
    "\n",
    "d = 'Hello world'\n",
    "s = len(d)\n",
    "print('Length of string is: ', s)\n",
    "\n",
    "s = d[0]; print('First character of a string: ', s)\n",
    "\n",
    "print('Second character of a string: ', d[1])\n",
    "\n",
    "print('First two characters of a string: ', d[0:2])\n",
    "\n",
    "print('Fourth to sixth character: ', d[3:6])\n",
    "display(d[3:6])\n",
    "\n",
    "print('Fourth to last character: ', d[3:])\n",
    "\n",
    "print('Up to fourth character: ', d[: 4])\n",
    "\n",
    "print('Every second character: ', d[: : 2])\n",
    "\n",
    "print('Reverse string: ', d[: : -1])\n",
    "\n",
    "\n",
    "print('Last character of string: ', d[len(d) - 1])\n",
    "print('Last character of s string (nicer): ', d[-1])\n",
    "\n",
    "print('Last two characters of string: ', d[-2: ])"
   ]
  },
  {
   "cell_type": "markdown",
   "metadata": {},
   "source": [
    "## Strings have many cool methods\n",
    "https://www.w3schools.com/python/python_ref_string.asp"
   ]
  },
  {
   "cell_type": "code",
   "execution_count": null,
   "metadata": {
    "scrolled": true
   },
   "outputs": [],
   "source": [
    "s = 'hello world'\n",
    "print(s)\n",
    "\n",
    "s.endswith('d')\n",
    "\n"
   ]
  },
  {
   "cell_type": "code",
   "execution_count": null,
   "metadata": {},
   "outputs": [],
   "source": [
    "s = 'hello world'\n",
    "print(s.capitalize())\n",
    "print(s.upper())\n",
    "print(s.title())\n",
    "print(s.zfill(15))      # Fill with zeros in the beginning to achieve desired length\n",
    "print(s.find('world'))  # Give me the position of the first occurence of world\n",
    "\n",
    "# How do I find second occurence of world?\n",
    "s = 'Hello world world'\n",
    "w = 'world'\n",
    "i = s.find(w)\n",
    "print('First occurence is at position: ', i)\n",
    "i = s.find(w, i + 1)    # Start looking at position i + 1\n",
    "print(i)"
   ]
  },
  {
   "cell_type": "markdown",
   "metadata": {},
   "source": [
    "A very useful method is for splitting strings into lists (more on lists later)."
   ]
  },
  {
   "cell_type": "code",
   "execution_count": null,
   "metadata": {},
   "outputs": [],
   "source": [
    "s = 'hello world'\n",
    "s.split() # Default split character is the space"
   ]
  },
  {
   "cell_type": "markdown",
   "metadata": {},
   "source": [
    "## String Formatting"
   ]
  },
  {
   "cell_type": "code",
   "execution_count": null,
   "metadata": {},
   "outputs": [],
   "source": [
    "s = 'My favourite fruits are bananas, peaches and strawberries'\n",
    "print(s)"
   ]
  },
  {
   "cell_type": "code",
   "execution_count": null,
   "metadata": {},
   "outputs": [],
   "source": [
    "s = 'My favourite fruits are {}, {} and {}'.format('bananas', 'peaches', 'strawberries')\n",
    "print(s)"
   ]
  },
  {
   "cell_type": "code",
   "execution_count": null,
   "metadata": {},
   "outputs": [],
   "source": [
    "s = 'My favourite fruits are {0}, {1} and {2}'.format('bananas', 'peaches', 'strawberries')\n",
    "print(s)\n",
    "\n",
    "s = 'My favourite fruits are {1}, {0} and {2}'.format('bananas', 'peaches', 'strawberries')\n",
    "print(s)\n",
    "\n",
    "s = 'My favourite fruits are {0}, {0} and {0}'.format('bananas', 'peaches', 'strawberries')\n",
    "print(s)"
   ]
  },
  {
   "cell_type": "code",
   "execution_count": null,
   "metadata": {},
   "outputs": [],
   "source": [
    "s = 'My favourite fruits are {f}, {g} and {h}'.format(f = 'bananas', g = 'peaches', h = 'strawberries')\n",
    "print(s)\n",
    "\n",
    "f = 'bananas'; g = 'peaches'; h = 'strawberries'\n",
    "s = 'My favourite fruits are {h}, {g} and {f}'.format(f = f, g = g, h = h)\n",
    "\n",
    "# s = 'My favourite fruits are ' + h + ', ' + g + ', ' + f\n",
    "print(s)"
   ]
  },
  {
   "cell_type": "code",
   "execution_count": null,
   "metadata": {},
   "outputs": [],
   "source": [
    "q = 1 / 6\n",
    "print(q)\n",
    "\n",
    "print(\"{q:1.4f}\".format(q = q))\n",
    "print(\"{q:10.4f}\".format(q = q))"
   ]
  },
  {
   "cell_type": "markdown",
   "metadata": {},
   "source": [
    "## Strings are immutable"
   ]
  },
  {
   "cell_type": "code",
   "execution_count": null,
   "metadata": {},
   "outputs": [],
   "source": [
    "print(s)"
   ]
  },
  {
   "cell_type": "code",
   "execution_count": null,
   "metadata": {},
   "outputs": [],
   "source": [
    "# s[0] = 'G'  # Gives an error\n",
    "s = 'G' + s[1 : ]\n",
    "print(s)"
   ]
  },
  {
   "cell_type": "markdown",
   "metadata": {},
   "source": [
    "# Some interesting (special) characters"
   ]
  },
  {
   "cell_type": "code",
   "execution_count": null,
   "metadata": {},
   "outputs": [],
   "source": [
    "# Newline character\n",
    "\n",
    "s = 'Hello\\nworld'\n",
    "print(s)\n",
    "display(s)\n",
    "\n",
    "s = 'Hello\\tworld'\n",
    "print(s)\n",
    "display(s)\n",
    "\n",
    "len(s)\n",
    "\n",
    "s = '''\n",
    "Ihr naht euch wieder, schwankende Gestalten,\n",
    " Die früh sich einst dem trüben Blick gezeigt.\n",
    "  Versuch ich wohl, euch diesmal festzuhalten?\n",
    "  Fühl ich mein Herz noch jenem Wahn geneigt?\n",
    "  Ihr drängt euch zu!  nun gut, so mögt ihr walten,\n",
    "  Wie ihr aus Dunst und Nebel um mich steigt;\n",
    "  Mein Busen fühlt sich jugendlich erschüttert\n",
    "  Vom Zauberhauch, der euren Zug umwittert.\n",
    "'''\n",
    "\n",
    "\n",
    "\n",
    "display(s)\n",
    "\n",
    "len(s)\n",
    "\n",
    "print(s)"
   ]
  },
  {
   "cell_type": "markdown",
   "metadata": {},
   "source": [
    "# Autocompletion in Jupyter Notebooks\n",
    "Use Tab key\n",
    "\n",
    "https://towardsdatascience.com/jupyter-notebook-autocompletion-f291008c66c"
   ]
  },
  {
   "cell_type": "code",
   "execution_count": null,
   "metadata": {},
   "outputs": [],
   "source": [
    "this_is_a_variable = 3\n",
    "this_is_another_variable = 3\n"
   ]
  },
  {
   "cell_type": "code",
   "execution_count": null,
   "metadata": {},
   "outputs": [],
   "source": []
  },
  {
   "cell_type": "code",
   "execution_count": null,
   "metadata": {},
   "outputs": [],
   "source": []
  }
 ],
 "metadata": {
  "kernelspec": {
   "display_name": "Python 3 (ipykernel)",
   "language": "python",
   "name": "python3"
  },
  "language_info": {
   "codemirror_mode": {
    "name": "ipython",
    "version": 3
   },
   "file_extension": ".py",
   "mimetype": "text/x-python",
   "name": "python",
   "nbconvert_exporter": "python",
   "pygments_lexer": "ipython3",
   "version": "3.9.13"
  }
 },
 "nbformat": 4,
 "nbformat_minor": 2
}
